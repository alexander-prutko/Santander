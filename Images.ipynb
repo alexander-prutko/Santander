{
 "cells": [
  {
   "cell_type": "code",
   "execution_count": 42,
   "metadata": {},
   "outputs": [],
   "source": [
    "%matplotlib inline\n",
    "from matplotlib import pyplot as plt\n",
    "from IPython.display import Image\n",
    "from IPython.core.display import HTML \n",
    "\n",
    "import requests\n",
    "import json"
   ]
  },
  {
   "cell_type": "code",
   "execution_count": 13,
   "metadata": {},
   "outputs": [],
   "source": [
    "text = \"mountains sunrise\"\n",
    "per_page = 10\n",
    "page = 0"
   ]
  },
  {
   "cell_type": "code",
   "execution_count": 22,
   "metadata": {},
   "outputs": [
    {
     "name": "stderr",
     "output_type": "stream",
     "text": [
      "C:\\Users\\11007098\\Documents\\py\\WinPython\\python-3.6.5.amd64\\lib\\site-packages\\urllib3\\connectionpool.py:852: InsecureRequestWarning: Unverified HTTPS request is being made. Adding certificate verification is strongly advised. See: https://urllib3.readthedocs.io/en/latest/advanced-usage.html#ssl-warnings\n",
      "  InsecureRequestWarning)\n"
     ]
    }
   ],
   "source": [
    "text_ = text.replace(' ', '+')\n",
    "per_page_ = str(per_page)\n",
    "page_ = str(page)\n",
    "r = requests.get('https://api.flickr.com/services/rest/?method=flickr.photos.search&api_key=60f98127b211e1b80fd7f5a62b890d91&text=' + text_ + '&per_page=' + per_page_ + '&page=' + page_ + '&format=json&nojsoncallback=1', verify=False)"
   ]
  },
  {
   "cell_type": "code",
   "execution_count": 32,
   "metadata": {},
   "outputs": [],
   "source": [
    "parsed = json.loads(r.text)\n",
    "id_photo_list = [photo[\"id\"] for photo in parsed[\"photos\"][\"photo\"]]"
   ]
  },
  {
   "cell_type": "code",
   "execution_count": 68,
   "metadata": {},
   "outputs": [
    {
     "name": "stderr",
     "output_type": "stream",
     "text": [
      "C:\\Users\\11007098\\Documents\\py\\WinPython\\python-3.6.5.amd64\\lib\\site-packages\\urllib3\\connectionpool.py:852: InsecureRequestWarning: Unverified HTTPS request is being made. Adding certificate verification is strongly advised. See: https://urllib3.readthedocs.io/en/latest/advanced-usage.html#ssl-warnings\n",
      "  InsecureRequestWarning)\n"
     ]
    }
   ],
   "source": [
    "i = 0\n",
    "r = requests.get('https://api.flickr.com/services/rest/?method=flickr.photos.getSizes&api_key=60f98127b211e1b80fd7f5a62b890d91&photo_id=' + id_photo_list[i] + '&format=json&nojsoncallback=1', verify=False)"
   ]
  },
  {
   "cell_type": "code",
   "execution_count": 69,
   "metadata": {},
   "outputs": [],
   "source": [
    "parsed = json.loads(r.text)\n",
    "# print(json.dumps(parsed, indent=4, sort_keys=True))\n",
    "img = parsed[\"sizes\"][\"size\"][0][\"source\"]\n",
    "# plt.imshow(img)\n",
    "# plt.show()"
   ]
  },
  {
   "cell_type": "code",
   "execution_count": 70,
   "metadata": {},
   "outputs": [
    {
     "data": {
      "text/html": [
       "<img src=\"https://farm8.staticflickr.com/7864/46704688134_4766842cdf_s.jpg\" width=\"100\" height=\"100\"/>"
      ],
      "text/plain": [
       "<IPython.core.display.Image object>"
      ]
     },
     "execution_count": 70,
     "metadata": {},
     "output_type": "execute_result"
    }
   ],
   "source": [
    "Image(url=img, width=100, height=100)"
   ]
  },
  {
   "cell_type": "code",
   "execution_count": 26,
   "metadata": {},
   "outputs": [
    {
     "name": "stdout",
     "output_type": "stream",
     "text": [
      "{\n",
      "    \"photos\": {\n",
      "        \"page\": 1,\n",
      "        \"pages\": 31867,\n",
      "        \"perpage\": 10,\n",
      "        \"photo\": [\n",
      "            {\n",
      "                \"farm\": 8,\n",
      "                \"id\": \"46704688134\",\n",
      "                \"isfamily\": 0,\n",
      "                \"isfriend\": 0,\n",
      "                \"ispublic\": 1,\n",
      "                \"owner\": \"75397633@N03\",\n",
      "                \"secret\": \"4766842cdf\",\n",
      "                \"server\": \"7864\",\n",
      "                \"title\": \"Sch\\u00e4fler\"\n",
      "            },\n",
      "            {\n",
      "                \"farm\": 8,\n",
      "                \"id\": \"33551263378\",\n",
      "                \"isfamily\": 0,\n",
      "                \"isfriend\": 0,\n",
      "                \"ispublic\": 1,\n",
      "                \"owner\": \"119400285@N07\",\n",
      "                \"secret\": \"e16652be78\",\n",
      "                \"server\": \"7810\",\n",
      "                \"title\": \"Rock Wash\"\n",
      "            },\n",
      "            {\n",
      "                \"farm\": 8,\n",
      "                \"id\": \"46511857355\",\n",
      "                \"isfamily\": 0,\n",
      "                \"isfriend\": 0,\n",
      "                \"ispublic\": 1,\n",
      "                \"owner\": \"158897138@N08\",\n",
      "                \"secret\": \"6912c3ebfb\",\n",
      "                \"server\": \"7835\",\n",
      "                \"title\": \"Messy sage\"\n",
      "            },\n",
      "            {\n",
      "                \"farm\": 8,\n",
      "                \"id\": \"32485093467\",\n",
      "                \"isfamily\": 0,\n",
      "                \"isfriend\": 0,\n",
      "                \"ispublic\": 1,\n",
      "                \"owner\": \"28283328@N04\",\n",
      "                \"secret\": \"fa14a42f14\",\n",
      "                \"server\": \"7813\",\n",
      "                \"title\": \"Happy Spring\"\n",
      "            },\n",
      "            {\n",
      "                \"farm\": 8,\n",
      "                \"id\": \"47426108201\",\n",
      "                \"isfamily\": 0,\n",
      "                \"isfriend\": 0,\n",
      "                \"ispublic\": 1,\n",
      "                \"owner\": \"160090162@N05\",\n",
      "                \"secret\": \"b66b799e9e\",\n",
      "                \"server\": \"7848\",\n",
      "                \"title\": \"BRHAMATAL TREK\"\n",
      "            },\n",
      "            {\n",
      "                \"farm\": 8,\n",
      "                \"id\": \"47425641581\",\n",
      "                \"isfamily\": 0,\n",
      "                \"isfriend\": 0,\n",
      "                \"ispublic\": 1,\n",
      "                \"owner\": \"101681659@N08\",\n",
      "                \"secret\": \"a5a81987b1\",\n",
      "                \"server\": \"7908\",\n",
      "                \"title\": \"Orange Is The New Black\"\n",
      "            },\n",
      "            {\n",
      "                \"farm\": 8,\n",
      "                \"id\": \"46702416944\",\n",
      "                \"isfamily\": 0,\n",
      "                \"isfriend\": 0,\n",
      "                \"ispublic\": 1,\n",
      "                \"owner\": \"8099403@N04\",\n",
      "                \"secret\": \"81bc8e31b5\",\n",
      "                \"server\": \"7822\",\n",
      "                \"title\": \"Mt Hood Sunrise\"\n",
      "            },\n",
      "            {\n",
      "                \"farm\": 8,\n",
      "                \"id\": \"40459506083\",\n",
      "                \"isfamily\": 0,\n",
      "                \"isfriend\": 0,\n",
      "                \"ispublic\": 1,\n",
      "                \"owner\": \"137742194@N04\",\n",
      "                \"secret\": \"8d7a5cb071\",\n",
      "                \"server\": \"7897\",\n",
      "                \"title\": \"Hervey Bay sunrise\"\n",
      "            },\n",
      "            {\n",
      "                \"farm\": 8,\n",
      "                \"id\": \"40459472683\",\n",
      "                \"isfamily\": 0,\n",
      "                \"isfriend\": 0,\n",
      "                \"ispublic\": 1,\n",
      "                \"owner\": \"96049708@N02\",\n",
      "                \"secret\": \"f5a7bb5b44\",\n",
      "                \"server\": \"7824\",\n",
      "                \"title\": \"Mesquite Flat Sand Dunes\"\n",
      "            },\n",
      "            {\n",
      "                \"farm\": 8,\n",
      "                \"id\": \"46702036804\",\n",
      "                \"isfamily\": 0,\n",
      "                \"isfriend\": 0,\n",
      "                \"ispublic\": 1,\n",
      "                \"owner\": \"96049708@N02\",\n",
      "                \"secret\": \"fa81315ebb\",\n",
      "                \"server\": \"7855\",\n",
      "                \"title\": \"Mesquite Flat Sand Dunes\"\n",
      "            }\n",
      "        ],\n",
      "        \"total\": \"318664\"\n",
      "    },\n",
      "    \"stat\": \"ok\"\n",
      "}\n"
     ]
    }
   ],
   "source": [
    "print(json.dumps(parsed, indent=4, sort_keys=True))"
   ]
  },
  {
   "cell_type": "code",
   "execution_count": 31,
   "metadata": {},
   "outputs": [
    {
     "data": {
      "text/plain": [
       "['46704688134',\n",
       " '33551263378',\n",
       " '46511857355',\n",
       " '32485093467',\n",
       " '47426108201',\n",
       " '47425641581',\n",
       " '46702416944',\n",
       " '40459506083',\n",
       " '40459472683',\n",
       " '46702036804']"
      ]
     },
     "execution_count": 31,
     "metadata": {},
     "output_type": "execute_result"
    }
   ],
   "source": [
    "[photo[\"id\"] for photo in parsed[\"photos\"][\"photo\"]]"
   ]
  }
 ],
 "metadata": {
  "kernelspec": {
   "display_name": "Python 3",
   "language": "python",
   "name": "python3"
  },
  "language_info": {
   "codemirror_mode": {
    "name": "ipython",
    "version": 3
   },
   "file_extension": ".py",
   "mimetype": "text/x-python",
   "name": "python",
   "nbconvert_exporter": "python",
   "pygments_lexer": "ipython3",
   "version": "3.6.5"
  }
 },
 "nbformat": 4,
 "nbformat_minor": 2
}
