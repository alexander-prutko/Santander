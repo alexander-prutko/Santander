{
 "cells": [
  {
   "cell_type": "code",
   "execution_count": 18,
   "metadata": {},
   "outputs": [],
   "source": [
    "%matplotlib inline\n",
    "from matplotlib import pyplot as plt\n",
    "from IPython.display import Image\n",
    "from IPython.core.display import HTML \n",
    "# from PIL import Image\n",
    "# import matplotlib.image as mpimg\n",
    "\n",
    "import requests\n",
    "import urllib3\n",
    "import json\n",
    "import os"
   ]
  },
  {
   "cell_type": "code",
   "execution_count": 33,
   "metadata": {},
   "outputs": [],
   "source": [
    "import warnings\n",
    "warnings.filterwarnings('ignore')"
   ]
  },
  {
   "cell_type": "code",
   "execution_count": 90,
   "metadata": {},
   "outputs": [],
   "source": [
    "# https://www.flickr.com/services/api/explore/flickr.photos.search\n",
    "# https://www.flickr.com/services/api/explore/flickr.photos.getSizes\n",
    "text = \"mountains sunrise\"\n",
    "per_page = 100\n",
    "page = 0\n",
    "api_key = \"74eb676ea165fa1710ef854f3ad90fdc\""
   ]
  },
  {
   "cell_type": "code",
   "execution_count": 91,
   "metadata": {},
   "outputs": [
    {
     "data": {
      "text/plain": [
       "3294400"
      ]
     },
     "execution_count": 91,
     "metadata": {},
     "output_type": "execute_result"
    }
   ],
   "source": [
    "r = requests.get('https://api.flickr.com/services/rest/?method=flickr.photos.search&api_key='+api_key+'&text=' + text_ + '&per_page=' + per_page_ + '&page=' + page_ + '&sort=relevance&format=json&nojsoncallback=1', verify=False)\n",
    "json.loads(r.text)[\"photos\"][\"pages\"]*per_page"
   ]
  },
  {
   "cell_type": "code",
   "execution_count": 102,
   "metadata": {},
   "outputs": [
    {
     "name": "stdout",
     "output_type": "stream",
     "text": [
      "page: 0\n",
      "photo: 0\n",
      "photo: 10\n",
      "photo: 20\n",
      "photo: 30\n",
      "photo: 40\n",
      "photo: 50\n",
      "photo: 60\n",
      "photo: 70\n",
      "photo: 80\n",
      "photo: 90\n",
      "page: 1\n",
      "photo: 0\n",
      "photo: 10\n",
      "photo: 20\n",
      "photo: 30\n",
      "photo: 40\n",
      "photo: 50\n",
      "photo: 60\n",
      "photo: 70\n",
      "photo: 80\n",
      "photo: 90\n",
      "page: 2\n",
      "photo: 0\n",
      "photo: 10\n",
      "photo: 20\n",
      "photo: 30\n",
      "photo: 40\n",
      "photo: 50\n",
      "photo: 60\n",
      "photo: 70\n",
      "photo: 80\n",
      "photo: 90\n",
      "page: 3\n",
      "photo: 0\n",
      "photo: 10\n",
      "photo: 20\n",
      "photo: 30\n",
      "photo: 40\n",
      "photo: 50\n",
      "photo: 60\n",
      "photo: 70\n",
      "photo: 80\n",
      "photo: 90\n",
      "page: 4\n",
      "photo: 0\n",
      "photo: 10\n",
      "photo: 20\n",
      "photo: 30\n",
      "photo: 40\n",
      "photo: 50\n",
      "photo: 60\n",
      "photo: 70\n",
      "photo: 80\n",
      "photo: 90\n",
      "page: 5\n",
      "photo: 0\n",
      "photo: 10\n",
      "photo: 20\n",
      "photo: 30\n",
      "photo: 40\n",
      "photo: 50\n",
      "photo: 60\n",
      "photo: 70\n",
      "photo: 80\n",
      "photo: 90\n",
      "page: 6\n",
      "photo: 0\n",
      "photo: 10\n",
      "photo: 20\n",
      "photo: 30\n",
      "photo: 40\n",
      "photo: 50\n",
      "photo: 60\n",
      "photo: 70\n",
      "photo: 80\n",
      "photo: 90\n",
      "page: 7\n",
      "photo: 0\n",
      "photo: 10\n",
      "photo: 20\n",
      "photo: 30\n",
      "photo: 40\n",
      "photo: 50\n",
      "photo: 60\n",
      "photo: 70\n",
      "photo: 80\n",
      "photo: 90\n",
      "page: 8\n",
      "photo: 0\n",
      "photo: 10\n",
      "photo: 20\n",
      "photo: 30\n",
      "photo: 40\n",
      "photo: 50\n",
      "photo: 60\n",
      "photo: 70\n",
      "photo: 80\n",
      "photo: 90\n",
      "page: 9\n",
      "photo: 0\n",
      "photo: 10\n",
      "photo: 20\n",
      "photo: 30\n",
      "photo: 40\n",
      "photo: 50\n",
      "photo: 60\n",
      "photo: 70\n",
      "photo: 80\n",
      "photo: 90\n"
     ]
    }
   ],
   "source": [
    "if not os.path.exists('images'):\n",
    "    os.mkdir('images')\n",
    "for page in range(10):\n",
    "    print(\"page:\", page)\n",
    "    text_ = text.replace(' ', '+')\n",
    "    per_page_ = str(per_page)\n",
    "    page_ = str(page+1)\n",
    "    \n",
    "    r = requests.get('https://api.flickr.com/services/rest/?method=flickr.photos.search&api_key='+api_key+'&text=' + text_ + '&per_page=' + per_page_ + '&page=' + page_ + '&sort=relevance&format=json&nojsoncallback=1', verify=False)\n",
    "    if len(r.text) > 0:\n",
    "        parsed = json.loads(r.text)\n",
    "        id_photo_list = [photo[\"id\"] for photo in parsed[\"photos\"][\"photo\"]]\n",
    "        list_len = len(id_photo_list)\n",
    "        for i in range(list_len):\n",
    "            if i % 10 == 0:\n",
    "                print(\"photo:\", i)\n",
    "            r = requests.get('https://api.flickr.com/services/rest/?method=flickr.photos.getSizes&api_key='+api_key+'&photo_id=' + id_photo_list[i] + '&format=json&nojsoncallback=1', verify=False)\n",
    "            if len(r.text) > 0:\n",
    "                parsed = json.loads(r.text)\n",
    "                # 0 Square (75x75); 7 Medium 800\n",
    "                k = len(parsed[\"sizes\"][\"size\"]) \n",
    "                if k > 7:\n",
    "                    img = parsed[\"sizes\"][\"size\"][7][\"source\"]\n",
    "                else:\n",
    "                    img = parsed[\"sizes\"][\"size\"][k-1][\"source\"]\n",
    "                r = requests.get(img, allow_redirects=True, verify=False)\n",
    "                open(os.path.join('images', os.path.basename(img).split('?')[0]), 'wb').write(r.content)"
   ]
  },
  {
   "cell_type": "code",
   "execution_count": 101,
   "metadata": {},
   "outputs": [
    {
     "data": {
      "text/plain": [
       "99"
      ]
     },
     "execution_count": 101,
     "metadata": {},
     "output_type": "execute_result"
    }
   ],
   "source": [
    "len(id_photo_list)"
   ]
  },
  {
   "cell_type": "code",
   "execution_count": 61,
   "metadata": {},
   "outputs": [],
   "source": [
    "text_ = text.replace(' ', '+')\n",
    "per_page_ = str(per_page)\n",
    "page_ = str(page)\n",
    "r = requests.get('https://api.flickr.com/services/rest/?method=flickr.photos.search&api_key='+api_key+'&text=' + text_ + '&per_page=' + per_page_ + '&page=' + page_ + '&sort=relevance&format=json&nojsoncallback=1', verify=False)\n",
    "# r = requests.get('https://api.flickr.com/services/rest/?method=flickr.photos.search&api_key=74eb676ea165fa1710ef854f3ad90fdc&text=mountains+sunrise&per_page=10&page=0&format=json&nojsoncallback=1', verify=False)"
   ]
  },
  {
   "cell_type": "code",
   "execution_count": 62,
   "metadata": {},
   "outputs": [],
   "source": [
    "# r.text\n",
    "# parsed = json.loads(r.text)\n",
    "# print(json.dumps(parsed, indent=4, sort_keys=True))"
   ]
  },
  {
   "cell_type": "code",
   "execution_count": 63,
   "metadata": {},
   "outputs": [],
   "source": [
    "parsed = json.loads(r.text)\n",
    "id_photo_list = [photo[\"id\"] for photo in parsed[\"photos\"][\"photo\"]]"
   ]
  },
  {
   "cell_type": "code",
   "execution_count": 64,
   "metadata": {},
   "outputs": [],
   "source": [
    "# id_photo_list"
   ]
  },
  {
   "cell_type": "code",
   "execution_count": 65,
   "metadata": {},
   "outputs": [
    {
     "name": "stdout",
     "output_type": "stream",
     "text": [
      "0\n",
      "1\n",
      "2\n",
      "3\n",
      "4\n",
      "5\n",
      "6\n",
      "7\n",
      "8\n",
      "9\n"
     ]
    }
   ],
   "source": [
    "if not os.path.exists('images'):\n",
    "    os.mkdir('images')\n",
    "for i in range(10):\n",
    "    print(i)\n",
    "    r = requests.get('https://api.flickr.com/services/rest/?method=flickr.photos.getSizes&api_key='+api_key+'&photo_id=' + id_photo_list[i] + '&format=json&nojsoncallback=1', verify=False)\n",
    "    if len(r.text) > 0:\n",
    "        parsed = json.loads(r.text)\n",
    "        img = parsed[\"sizes\"][\"size\"][0][\"source\"]\n",
    "        r = requests.get(img, allow_redirects=True, verify=False)\n",
    "        open(os.path.join('images', os.path.basename(img)), 'wb').write(r.content)"
   ]
  },
  {
   "cell_type": "code",
   "execution_count": 24,
   "metadata": {},
   "outputs": [
    {
     "name": "stderr",
     "output_type": "stream",
     "text": [
      "C:\\Users\\11007098\\Documents\\py\\WinPython\\python-3.6.5.amd64\\lib\\site-packages\\urllib3\\connectionpool.py:852: InsecureRequestWarning: Unverified HTTPS request is being made. Adding certificate verification is strongly advised. See: https://urllib3.readthedocs.io/en/latest/advanced-usage.html#ssl-warnings\n",
      "  InsecureRequestWarning)\n"
     ]
    }
   ],
   "source": [
    "i = 5\n",
    "r = requests.get('https://api.flickr.com/services/rest/?method=flickr.photos.getSizes&api_key='+api_key+'&photo_id=' + id_photo_list[i] + '&format=json&nojsoncallback=1', verify=False)"
   ]
  },
  {
   "cell_type": "code",
   "execution_count": 25,
   "metadata": {},
   "outputs": [],
   "source": [
    "parsed = json.loads(r.text)\n",
    "# print(json.dumps(parsed, indent=4, sort_keys=True))\n",
    "img = parsed[\"sizes\"][\"size\"][0][\"source\"]\n",
    "# plt.imshow(img)\n",
    "# plt.show()"
   ]
  },
  {
   "cell_type": "code",
   "execution_count": 95,
   "metadata": {},
   "outputs": [
    {
     "name": "stderr",
     "output_type": "stream",
     "text": [
      "C:\\Users\\11007098\\Documents\\py\\WinPython\\python-3.6.5.amd64\\lib\\site-packages\\urllib3\\connectionpool.py:852: InsecureRequestWarning: Unverified HTTPS request is being made. Adding certificate verification is strongly advised. See: https://urllib3.readthedocs.io/en/latest/advanced-usage.html#ssl-warnings\n",
      "  InsecureRequestWarning)\n"
     ]
    },
    {
     "data": {
      "text/plain": [
       "3893"
      ]
     },
     "execution_count": 95,
     "metadata": {},
     "output_type": "execute_result"
    }
   ],
   "source": [
    "r = requests.get(img, allow_redirects=True, verify=False)\n",
    "if not os.path.exists('images'):\n",
    "    os.mkdir('images')\n",
    "open(os.path.join('images', os.path.basename(img)), 'wb').write(r.content)"
   ]
  },
  {
   "cell_type": "code",
   "execution_count": 26,
   "metadata": {},
   "outputs": [
    {
     "data": {
      "text/html": [
       "<img src=\"https://farm8.staticflickr.com/7884/47432345621_7e76c80232_s.jpg\" width=\"100\" height=\"100\"/>"
      ],
      "text/plain": [
       "<IPython.core.display.Image object>"
      ]
     },
     "execution_count": 26,
     "metadata": {},
     "output_type": "execute_result"
    }
   ],
   "source": [
    "Image(url=img, width=100, height=100)"
   ]
  },
  {
   "cell_type": "code",
   "execution_count": 85,
   "metadata": {},
   "outputs": [
    {
     "data": {
      "text/plain": [
       "'46704688134_4766842cdf_s.jpg'"
      ]
     },
     "execution_count": 85,
     "metadata": {},
     "output_type": "execute_result"
    }
   ],
   "source": [
    "os.path.basename(img)"
   ]
  },
  {
   "cell_type": "code",
   "execution_count": 80,
   "metadata": {},
   "outputs": [
    {
     "ename": "ValueError",
     "evalue": "invalid PNG header",
     "output_type": "error",
     "traceback": [
      "\u001b[1;31m---------------------------------------------------------------------------\u001b[0m",
      "\u001b[1;31mValueError\u001b[0m                                Traceback (most recent call last)",
      "\u001b[1;32m<ipython-input-80-7b9b68d82814>\u001b[0m in \u001b[0;36m<module>\u001b[1;34m()\u001b[0m\n\u001b[1;32m----> 1\u001b[1;33m \u001b[0mimg_\u001b[0m\u001b[1;33m=\u001b[0m\u001b[0mmpimg\u001b[0m\u001b[1;33m.\u001b[0m\u001b[0mimread\u001b[0m\u001b[1;33m(\u001b[0m\u001b[0mimg\u001b[0m\u001b[1;33m)\u001b[0m\u001b[1;33m\u001b[0m\u001b[0m\n\u001b[0m\u001b[0;32m      2\u001b[0m \u001b[0mimgplot\u001b[0m \u001b[1;33m=\u001b[0m \u001b[0mplt\u001b[0m\u001b[1;33m.\u001b[0m\u001b[0mimshow\u001b[0m\u001b[1;33m(\u001b[0m\u001b[0mimg_\u001b[0m\u001b[1;33m)\u001b[0m\u001b[1;33m\u001b[0m\u001b[0m\n\u001b[0;32m      3\u001b[0m \u001b[0mplt\u001b[0m\u001b[1;33m.\u001b[0m\u001b[0mshow\u001b[0m\u001b[1;33m(\u001b[0m\u001b[1;33m)\u001b[0m\u001b[1;33m\u001b[0m\u001b[0m\n",
      "\u001b[1;32mC:\\Users\\11007098\\Documents\\py\\WinPython\\python-3.6.5.amd64\\lib\\site-packages\\matplotlib\\image.py\u001b[0m in \u001b[0;36mimread\u001b[1;34m(fname, format)\u001b[0m\n\u001b[0;32m   1371\u001b[0m         \u001b[1;32mif\u001b[0m \u001b[0mlen\u001b[0m\u001b[1;33m(\u001b[0m\u001b[0mparsed\u001b[0m\u001b[1;33m.\u001b[0m\u001b[0mscheme\u001b[0m\u001b[1;33m)\u001b[0m \u001b[1;33m>\u001b[0m \u001b[1;36m1\u001b[0m\u001b[1;33m:\u001b[0m\u001b[1;33m\u001b[0m\u001b[0m\n\u001b[0;32m   1372\u001b[0m             \u001b[0mfd\u001b[0m \u001b[1;33m=\u001b[0m \u001b[0mBytesIO\u001b[0m\u001b[1;33m(\u001b[0m\u001b[0murlopen\u001b[0m\u001b[1;33m(\u001b[0m\u001b[0mfname\u001b[0m\u001b[1;33m)\u001b[0m\u001b[1;33m.\u001b[0m\u001b[0mread\u001b[0m\u001b[1;33m(\u001b[0m\u001b[1;33m)\u001b[0m\u001b[1;33m)\u001b[0m\u001b[1;33m\u001b[0m\u001b[0m\n\u001b[1;32m-> 1373\u001b[1;33m             \u001b[1;32mreturn\u001b[0m \u001b[0mhandler\u001b[0m\u001b[1;33m(\u001b[0m\u001b[0mfd\u001b[0m\u001b[1;33m)\u001b[0m\u001b[1;33m\u001b[0m\u001b[0m\n\u001b[0m\u001b[0;32m   1374\u001b[0m         \u001b[1;32melse\u001b[0m\u001b[1;33m:\u001b[0m\u001b[1;33m\u001b[0m\u001b[0m\n\u001b[0;32m   1375\u001b[0m             \u001b[1;32mwith\u001b[0m \u001b[0mopen\u001b[0m\u001b[1;33m(\u001b[0m\u001b[0mfname\u001b[0m\u001b[1;33m,\u001b[0m \u001b[1;34m'rb'\u001b[0m\u001b[1;33m)\u001b[0m \u001b[1;32mas\u001b[0m \u001b[0mfd\u001b[0m\u001b[1;33m:\u001b[0m\u001b[1;33m\u001b[0m\u001b[0m\n",
      "\u001b[1;31mValueError\u001b[0m: invalid PNG header"
     ]
    }
   ],
   "source": [
    "img_=mpimg.imread(img)\n",
    "imgplot = plt.imshow(img_)\n",
    "plt.show()"
   ]
  },
  {
   "cell_type": "code",
   "execution_count": 75,
   "metadata": {},
   "outputs": [
    {
     "ename": "OSError",
     "evalue": "[Errno 22] Invalid argument: 'https://farm8.staticflickr.com/7864/46704688134_4766842cdf_s.jpg'",
     "output_type": "error",
     "traceback": [
      "\u001b[1;31m---------------------------------------------------------------------------\u001b[0m",
      "\u001b[1;31mOSError\u001b[0m                                   Traceback (most recent call last)",
      "\u001b[1;32m<ipython-input-75-b32ab8976034>\u001b[0m in \u001b[0;36m<module>\u001b[1;34m()\u001b[0m\n\u001b[0;32m      8\u001b[0m \u001b[1;33m\u001b[0m\u001b[0m\n\u001b[0;32m      9\u001b[0m \u001b[0mx_offset\u001b[0m \u001b[1;33m=\u001b[0m \u001b[1;36m0\u001b[0m\u001b[1;33m\u001b[0m\u001b[0m\n\u001b[1;32m---> 10\u001b[1;33m \u001b[1;32mfor\u001b[0m \u001b[0mim\u001b[0m \u001b[1;32min\u001b[0m \u001b[0mimages\u001b[0m\u001b[1;33m:\u001b[0m\u001b[1;33m\u001b[0m\u001b[0m\n\u001b[0m\u001b[0;32m     11\u001b[0m   \u001b[0mnew_im\u001b[0m\u001b[1;33m.\u001b[0m\u001b[0mpaste\u001b[0m\u001b[1;33m(\u001b[0m\u001b[0mim\u001b[0m\u001b[1;33m,\u001b[0m \u001b[1;33m(\u001b[0m\u001b[0mx_offset\u001b[0m\u001b[1;33m,\u001b[0m\u001b[1;36m0\u001b[0m\u001b[1;33m)\u001b[0m\u001b[1;33m)\u001b[0m\u001b[1;33m\u001b[0m\u001b[0m\n\u001b[0;32m     12\u001b[0m   \u001b[0mx_offset\u001b[0m \u001b[1;33m+=\u001b[0m \u001b[0mim\u001b[0m\u001b[1;33m.\u001b[0m\u001b[0msize\u001b[0m\u001b[1;33m[\u001b[0m\u001b[1;36m0\u001b[0m\u001b[1;33m]\u001b[0m\u001b[1;33m\u001b[0m\u001b[0m\n",
      "\u001b[1;32mC:\\Users\\11007098\\Documents\\py\\WinPython\\python-3.6.5.amd64\\lib\\site-packages\\PIL\\Image.py\u001b[0m in \u001b[0;36mopen\u001b[1;34m(fp, mode)\u001b[0m\n\u001b[0;32m   2541\u001b[0m \u001b[1;33m\u001b[0m\u001b[0m\n\u001b[0;32m   2542\u001b[0m     \u001b[1;32mif\u001b[0m \u001b[0mfilename\u001b[0m\u001b[1;33m:\u001b[0m\u001b[1;33m\u001b[0m\u001b[0m\n\u001b[1;32m-> 2543\u001b[1;33m         \u001b[0mfp\u001b[0m \u001b[1;33m=\u001b[0m \u001b[0mbuiltins\u001b[0m\u001b[1;33m.\u001b[0m\u001b[0mopen\u001b[0m\u001b[1;33m(\u001b[0m\u001b[0mfilename\u001b[0m\u001b[1;33m,\u001b[0m \u001b[1;34m\"rb\"\u001b[0m\u001b[1;33m)\u001b[0m\u001b[1;33m\u001b[0m\u001b[0m\n\u001b[0m\u001b[0;32m   2544\u001b[0m         \u001b[0mexclusive_fp\u001b[0m \u001b[1;33m=\u001b[0m \u001b[1;32mTrue\u001b[0m\u001b[1;33m\u001b[0m\u001b[0m\n\u001b[0;32m   2545\u001b[0m \u001b[1;33m\u001b[0m\u001b[0m\n",
      "\u001b[1;31mOSError\u001b[0m: [Errno 22] Invalid argument: 'https://farm8.staticflickr.com/7864/46704688134_4766842cdf_s.jpg'"
     ]
    }
   ],
   "source": [
    "images = map(Image.open, [img, img, img])\n",
    "# widths, heights = zip(*(i.size for i in images))\n",
    "\n",
    "total_width = 75*3\n",
    "max_height = 75\n",
    "\n",
    "new_im = Image.new('RGB', (total_width, max_height))\n",
    "\n",
    "x_offset = 0\n",
    "for im in images:\n",
    "  new_im.paste(im, (x_offset,0))\n",
    "  x_offset += im.size[0]\n",
    "\n",
    "new_im.save('test.jpg')"
   ]
  },
  {
   "cell_type": "code",
   "execution_count": 26,
   "metadata": {},
   "outputs": [
    {
     "name": "stdout",
     "output_type": "stream",
     "text": [
      "{\n",
      "    \"photos\": {\n",
      "        \"page\": 1,\n",
      "        \"pages\": 31867,\n",
      "        \"perpage\": 10,\n",
      "        \"photo\": [\n",
      "            {\n",
      "                \"farm\": 8,\n",
      "                \"id\": \"46704688134\",\n",
      "                \"isfamily\": 0,\n",
      "                \"isfriend\": 0,\n",
      "                \"ispublic\": 1,\n",
      "                \"owner\": \"75397633@N03\",\n",
      "                \"secret\": \"4766842cdf\",\n",
      "                \"server\": \"7864\",\n",
      "                \"title\": \"Sch\\u00e4fler\"\n",
      "            },\n",
      "            {\n",
      "                \"farm\": 8,\n",
      "                \"id\": \"33551263378\",\n",
      "                \"isfamily\": 0,\n",
      "                \"isfriend\": 0,\n",
      "                \"ispublic\": 1,\n",
      "                \"owner\": \"119400285@N07\",\n",
      "                \"secret\": \"e16652be78\",\n",
      "                \"server\": \"7810\",\n",
      "                \"title\": \"Rock Wash\"\n",
      "            },\n",
      "            {\n",
      "                \"farm\": 8,\n",
      "                \"id\": \"46511857355\",\n",
      "                \"isfamily\": 0,\n",
      "                \"isfriend\": 0,\n",
      "                \"ispublic\": 1,\n",
      "                \"owner\": \"158897138@N08\",\n",
      "                \"secret\": \"6912c3ebfb\",\n",
      "                \"server\": \"7835\",\n",
      "                \"title\": \"Messy sage\"\n",
      "            },\n",
      "            {\n",
      "                \"farm\": 8,\n",
      "                \"id\": \"32485093467\",\n",
      "                \"isfamily\": 0,\n",
      "                \"isfriend\": 0,\n",
      "                \"ispublic\": 1,\n",
      "                \"owner\": \"28283328@N04\",\n",
      "                \"secret\": \"fa14a42f14\",\n",
      "                \"server\": \"7813\",\n",
      "                \"title\": \"Happy Spring\"\n",
      "            },\n",
      "            {\n",
      "                \"farm\": 8,\n",
      "                \"id\": \"47426108201\",\n",
      "                \"isfamily\": 0,\n",
      "                \"isfriend\": 0,\n",
      "                \"ispublic\": 1,\n",
      "                \"owner\": \"160090162@N05\",\n",
      "                \"secret\": \"b66b799e9e\",\n",
      "                \"server\": \"7848\",\n",
      "                \"title\": \"BRHAMATAL TREK\"\n",
      "            },\n",
      "            {\n",
      "                \"farm\": 8,\n",
      "                \"id\": \"47425641581\",\n",
      "                \"isfamily\": 0,\n",
      "                \"isfriend\": 0,\n",
      "                \"ispublic\": 1,\n",
      "                \"owner\": \"101681659@N08\",\n",
      "                \"secret\": \"a5a81987b1\",\n",
      "                \"server\": \"7908\",\n",
      "                \"title\": \"Orange Is The New Black\"\n",
      "            },\n",
      "            {\n",
      "                \"farm\": 8,\n",
      "                \"id\": \"46702416944\",\n",
      "                \"isfamily\": 0,\n",
      "                \"isfriend\": 0,\n",
      "                \"ispublic\": 1,\n",
      "                \"owner\": \"8099403@N04\",\n",
      "                \"secret\": \"81bc8e31b5\",\n",
      "                \"server\": \"7822\",\n",
      "                \"title\": \"Mt Hood Sunrise\"\n",
      "            },\n",
      "            {\n",
      "                \"farm\": 8,\n",
      "                \"id\": \"40459506083\",\n",
      "                \"isfamily\": 0,\n",
      "                \"isfriend\": 0,\n",
      "                \"ispublic\": 1,\n",
      "                \"owner\": \"137742194@N04\",\n",
      "                \"secret\": \"8d7a5cb071\",\n",
      "                \"server\": \"7897\",\n",
      "                \"title\": \"Hervey Bay sunrise\"\n",
      "            },\n",
      "            {\n",
      "                \"farm\": 8,\n",
      "                \"id\": \"40459472683\",\n",
      "                \"isfamily\": 0,\n",
      "                \"isfriend\": 0,\n",
      "                \"ispublic\": 1,\n",
      "                \"owner\": \"96049708@N02\",\n",
      "                \"secret\": \"f5a7bb5b44\",\n",
      "                \"server\": \"7824\",\n",
      "                \"title\": \"Mesquite Flat Sand Dunes\"\n",
      "            },\n",
      "            {\n",
      "                \"farm\": 8,\n",
      "                \"id\": \"46702036804\",\n",
      "                \"isfamily\": 0,\n",
      "                \"isfriend\": 0,\n",
      "                \"ispublic\": 1,\n",
      "                \"owner\": \"96049708@N02\",\n",
      "                \"secret\": \"fa81315ebb\",\n",
      "                \"server\": \"7855\",\n",
      "                \"title\": \"Mesquite Flat Sand Dunes\"\n",
      "            }\n",
      "        ],\n",
      "        \"total\": \"318664\"\n",
      "    },\n",
      "    \"stat\": \"ok\"\n",
      "}\n"
     ]
    }
   ],
   "source": [
    "print(json.dumps(parsed, indent=4, sort_keys=True))"
   ]
  },
  {
   "cell_type": "code",
   "execution_count": 31,
   "metadata": {},
   "outputs": [
    {
     "data": {
      "text/plain": [
       "['46704688134',\n",
       " '33551263378',\n",
       " '46511857355',\n",
       " '32485093467',\n",
       " '47426108201',\n",
       " '47425641581',\n",
       " '46702416944',\n",
       " '40459506083',\n",
       " '40459472683',\n",
       " '46702036804']"
      ]
     },
     "execution_count": 31,
     "metadata": {},
     "output_type": "execute_result"
    }
   ],
   "source": [
    "[photo[\"id\"] for photo in parsed[\"photos\"][\"photo\"]]"
   ]
  }
 ],
 "metadata": {
  "kernelspec": {
   "display_name": "Python 3",
   "language": "python",
   "name": "python3"
  },
  "language_info": {
   "codemirror_mode": {
    "name": "ipython",
    "version": 3
   },
   "file_extension": ".py",
   "mimetype": "text/x-python",
   "name": "python",
   "nbconvert_exporter": "python",
   "pygments_lexer": "ipython3",
   "version": "3.6.5"
  }
 },
 "nbformat": 4,
 "nbformat_minor": 2
}
